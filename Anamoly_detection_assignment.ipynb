{
  "nbformat": 4,
  "nbformat_minor": 0,
  "metadata": {
    "colab": {
      "provenance": [],
      "gpuType": "T4"
    },
    "kernelspec": {
      "name": "python3",
      "display_name": "Python 3"
    },
    "language_info": {
      "name": "python"
    },
    "accelerator": "GPU"
  },
  "cells": [
    {
      "cell_type": "code",
      "execution_count": 1,
      "metadata": {
        "colab": {
          "base_uri": "https://localhost:8080/"
        },
        "id": "BtJAGQhWhyx9",
        "outputId": "d78f966f-6266-481f-eb63-32a0ef494a84"
      },
      "outputs": [
        {
          "output_type": "stream",
          "name": "stdout",
          "text": [
            "Data generation complete.\n"
          ]
        }
      ],
      "source": [
        "import pandas as pd\n",
        "import datetime\n",
        "import random\n",
        "\n",
        "\n",
        "duration_minutes = 600\n",
        "sampling_rate_hz = 10\n",
        "num_samples = duration_minutes * 60 * sampling_rate_hz\n",
        "\n",
        "# Initialize lists to store data\n",
        "timestamps = []\n",
        "cpu_temperatures = []\n",
        "cpu_usages = []\n",
        "cpu_loads = []\n",
        "memory_usages = []\n",
        "battery_levels = []\n",
        "cpu_powers = []\n",
        "\n",
        "# Simulating data collection without real-time delays\n",
        "for i in range(num_samples):\n",
        "    # Generating synthetic timestamps\n",
        "    current_time = datetime.datetime.now() + datetime.timedelta(seconds=i/sampling_rate_hz)\n",
        "    timestamps.append(current_time)\n",
        "\n",
        "\n",
        "    cpu_temperatures.append(random.uniform(30, 90))\n",
        "    cpu_usages.append(random.uniform(0, 100))\n",
        "    cpu_loads.append(random.uniform(0, 3))\n",
        "    memory_usages.append(random.uniform(0, 100))\n",
        "    battery_levels.append(random.uniform(0, 100))\n",
        "    cpu_powers.append(random.uniform(0, 100))\n",
        "\n",
        "    # Introducing synthetic anomalies\n",
        "    if random.random() < 0.1:\n",
        "        cpu_usages[-1] = random.uniform(90, 100)\n",
        "    if random.random() < 0.1:\n",
        "        cpu_temperatures[-1] = random.uniform(90, 105)\n",
        "    if random.random() < 0.1:\n",
        "        memory_usages[-1] = random.uniform(95, 100)\n",
        "    if random.random() < 0.1:\n",
        "        battery_levels[-1] = random.uniform(0, 10)\n",
        "    if random.random() < 0.1:\n",
        "        cpu_powers[-1] = random.uniform(50, 100)\n",
        "\n",
        "data = {\n",
        "    'timestamp': timestamps,\n",
        "    'cpu_temperature': cpu_temperatures,\n",
        "    'cpu_usage': cpu_usages,\n",
        "    'cpu_load': cpu_loads,\n",
        "    'memory_usage': memory_usages,\n",
        "    'battery_level': battery_levels,\n",
        "    'cpu_power': cpu_powers\n",
        "}\n",
        "df_real = pd.DataFrame(data)\n",
        "\n",
        "df_real.to_csv('synthetic_hardware_monitor_data.csv', index=False)\n",
        "\n",
        "print(\"Data generation complete.\")\n"
      ]
    },
    {
      "cell_type": "code",
      "source": [
        "\n",
        "\n",
        "# Loading the data\n",
        "df = pd.read_csv('/content/synthetic_hardware_monitor_data.csv')\n",
        "\n",
        "# Defining a simple anomaly detection function using IQR\n",
        "def detect_anomalies(series):\n",
        "    Q1 = series.quantile(0.25)  # First quartile\n",
        "    Q3 = series.quantile(0.75)  # Third quartile\n",
        "    IQR = Q3 - Q1  # Interquartile Range\n",
        "    lower_bound = Q1 - 1.5 * IQR  # Lower bound for anomalies\n",
        "    upper_bound = Q3 + 1.5 * IQR  # Upper bound for anomalies\n",
        "    return ((series < lower_bound) | (series > upper_bound))  # Return boolean mask for anomalies\n",
        "\n",
        "\n",
        "df['cpu_temperature_anomaly'] = detect_anomalies(df['cpu_temperature'])\n",
        "df['cpu_usage_anomaly'] = detect_anomalies(df['cpu_usage'])\n",
        "df['memory_usage_anomaly'] = detect_anomalies(df['memory_usage'])\n",
        "\n",
        "# Displaying first few rows with anomalies marked\n",
        "print(df[['timestamp', 'cpu_temperature', 'cpu_temperature_anomaly',\n",
        "          'cpu_usage', 'cpu_usage_anomaly', 'memory_usage', 'memory_usage_anomaly']].head())\n",
        "\n",
        "\n",
        "df.to_csv('synthetic_data_with_anomalies.csv', index=False)\n",
        "\n",
        "\n",
        "cpu_temp_anomalies = df['cpu_temperature_anomaly'].sum()\n",
        "cpu_usage_anomalies = df['cpu_usage_anomaly'].sum()\n",
        "memory_usage_anomalies = df['memory_usage_anomaly'].sum()\n",
        "\n",
        "print(f\"CPU Temperature Anomalies Detected: {cpu_temp_anomalies}\")\n",
        "print(f\"CPU Usage Anomalies Detected: {cpu_usage_anomalies}\")\n",
        "print(f\"Memory Usage Anomalies Detected: {memory_usage_anomalies}\")\n"
      ],
      "metadata": {
        "colab": {
          "base_uri": "https://localhost:8080/"
        },
        "id": "pjfqkaz-iQ7z",
        "outputId": "a3aaa33a-0d42-4e68-9e09-b50295894361"
      },
      "execution_count": 2,
      "outputs": [
        {
          "output_type": "stream",
          "name": "stdout",
          "text": [
            "                    timestamp  cpu_temperature  cpu_temperature_anomaly  \\\n",
            "0  2024-11-30 10:07:09.683893        74.574711                    False   \n",
            "1  2024-11-30 10:07:09.783916        69.069559                    False   \n",
            "2  2024-11-30 10:07:09.883925        79.987026                    False   \n",
            "3  2024-11-30 10:07:09.983932        80.915932                    False   \n",
            "4  2024-11-30 10:07:10.083938        84.271266                    False   \n",
            "\n",
            "   cpu_usage  cpu_usage_anomaly  memory_usage  memory_usage_anomaly  \n",
            "0  56.617181              False     80.078925                 False  \n",
            "1  97.562872              False     97.920369                 False  \n",
            "2  56.980606              False     86.367742                 False  \n",
            "3  69.937202              False     80.709217                 False  \n",
            "4  62.354936              False     97.456278                 False  \n",
            "CPU Temperature Anomalies Detected: 0\n",
            "CPU Usage Anomalies Detected: 0\n",
            "Memory Usage Anomalies Detected: 0\n"
          ]
        }
      ]
    },
    {
      "cell_type": "code",
      "source": [],
      "metadata": {
        "id": "Ysi4O1ApkMll"
      },
      "execution_count": null,
      "outputs": []
    }
  ]
}